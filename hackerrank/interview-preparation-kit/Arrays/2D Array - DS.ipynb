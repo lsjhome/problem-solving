{
 "cells": [
  {
   "cell_type": "code",
   "execution_count": null,
   "metadata": {},
   "outputs": [],
   "source": [
    "#!/bin/python3\n",
    "#https://www.hackerrank.com/challenges/2d-array\n",
    "import math\n",
    "import os\n",
    "import random\n",
    "import re\n",
    "import sys\n",
    "\n",
    "# Complete the hourglassSum function below.\n",
    "def hourglassSum(arr):\n",
    "    \n",
    "    n_row = len(arr)\n",
    "    n_col = len(arr[0])\n",
    "\n",
    "    gl = []\n",
    "\n",
    "    for i in range(1, n_row-1):\n",
    "        for j in range(1, n_col-1):\n",
    "            gl.append([arr[i][j]])\n",
    "            for r in arr[i-1][j-1:j+2]:\n",
    "                gl[-1].append(r)\n",
    "            for c in arr[i+1][j-1:j+2]:\n",
    "                gl[-1].append(c)\n",
    "    return max([sum(a) for a in gl])\n",
    "\n",
    "if __name__ == '__main__':\n",
    "    fptr = open(os.environ['OUTPUT_PATH'], 'w')\n",
    "\n",
    "    arr = []\n",
    "\n",
    "    for _ in range(6):\n",
    "        arr.append(list(map(int, input().rstrip().split())))\n",
    "\n",
    "    result = hourglassSum(arr)\n",
    "\n",
    "    fptr.write(str(result) + '\\n')\n",
    "\n",
    "    fptr.close()\n"
   ]
  }
 ],
 "metadata": {
  "kernelspec": {
   "display_name": "Python 3",
   "language": "python",
   "name": "python3"
  },
  "language_info": {
   "codemirror_mode": {
    "name": "ipython",
    "version": 3
   },
   "file_extension": ".py",
   "mimetype": "text/x-python",
   "name": "python",
   "nbconvert_exporter": "python",
   "pygments_lexer": "ipython3",
   "version": "3.7.2"
  }
 },
 "nbformat": 4,
 "nbformat_minor": 2
}
