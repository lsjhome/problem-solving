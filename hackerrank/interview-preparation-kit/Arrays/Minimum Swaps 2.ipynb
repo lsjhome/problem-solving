{
 "cells": [
  {
   "cell_type": "code",
   "execution_count": null,
   "metadata": {},
   "outputs": [],
   "source": [
    "#https://www.hackerrank.com/challenges/minimum-swaps-2\n",
    "#!/bin/python3\n",
    "\n",
    "import math\n",
    "import os\n",
    "import random\n",
    "import re\n",
    "import sys\n",
    "\n",
    "# Complete the minimumSwaps function below.\n",
    "def minimumSwaps(arr):\n",
    "    count = 0\n",
    "    i = 0\n",
    "    \n",
    "    # 최대 n-1 번 swap 하니까\n",
    "    while i<len(arr):\n",
    "        if arr[i] == i+1:\n",
    "            i+=1\n",
    "        else:\n",
    "            # 현재 i가 보고 있는 값과 arr[i]-1가 보고 있는 값을 바꿔준다.\n",
    "            temp = arr[i]\n",
    "            arr[i] = arr[temp-1]\n",
    "            arr[temp-1] = temp\n",
    "            count += 1\n",
    "    return count\n",
    "    \n",
    "if __name__ == '__main__':\n",
    "    fptr = open(os.environ['OUTPUT_PATH'], 'w')\n",
    "\n",
    "    n = int(input())\n",
    "\n",
    "    arr = list(map(int, input().rstrip().split()))\n",
    "\n",
    "    res = minimumSwaps(arr)\n",
    "\n",
    "    fptr.write(str(res) + '\\n')\n",
    "\n",
    "    fptr.close()"
   ]
  }
 ],
 "metadata": {
  "kernelspec": {
   "display_name": "Python 3",
   "language": "python",
   "name": "python3"
  },
  "language_info": {
   "codemirror_mode": {
    "name": "ipython",
    "version": 3
   },
   "file_extension": ".py",
   "mimetype": "text/x-python",
   "name": "python",
   "nbconvert_exporter": "python",
   "pygments_lexer": "ipython3",
   "version": "3.7.2"
  }
 },
 "nbformat": 4,
 "nbformat_minor": 2
}
