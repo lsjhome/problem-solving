{
 "cells": [
  {
   "cell_type": "code",
   "execution_count": null,
   "metadata": {},
   "outputs": [],
   "source": [
    "#!/bin/python3\n",
    "\n",
    "import math\n",
    "import os\n",
    "import random\n",
    "import re\n",
    "import sys\n",
    "\n",
    "# Complete the arrayManipulation function below.\n",
    "def arrayManipulation(n, queries):\n",
    "\n",
    "    # 초기화\n",
    "    array = [0] * n\n",
    "    \n",
    "    for query in queries:\n",
    "        # 인덱스 i와 i+1의 차이를 나타내는 array를 생성한다.\n",
    "        # array[a-1]에 query[2]를 더하고 array[b]에는 query[2]를 빼 주면 된면 difference array가 생성된다.\n",
    "        array[query[0]-1] += query[2]\n",
    "        if query[1] < n: # 인덱스가 벗어날 경우에는 그냥 둔다.\n",
    "            array[query[1]] -= query[2]\n",
    "#         print (array)\n",
    "    \n",
    "    max_val = 0\n",
    "    sum_val = 0\n",
    "    for dif in array:\n",
    "        sum_val+=dif\n",
    "        \n",
    "        if sum_val > max_val:\n",
    "            max_val = sum_val          \n",
    "        \n",
    "    return max_val\n",
    "\n",
    "if __name__ == '__main__':\n",
    "    fptr = open(os.environ['OUTPUT_PATH'], 'w')\n",
    "\n",
    "    nm = input().split()\n",
    "\n",
    "    n = int(nm[0])\n",
    "\n",
    "    m = int(nm[1])\n",
    "\n",
    "    queries = []\n",
    "\n",
    "    for _ in range(m):\n",
    "        queries.append(list(map(int, input().rstrip().split())))\n",
    "\n",
    "    result = arrayManipulation(n, queries)\n",
    "\n",
    "    fptr.write(str(result) + '\\n')\n",
    "\n",
    "    fptr.close()"
   ]
  },
  {
   "cell_type": "code",
   "execution_count": 101,
   "metadata": {},
   "outputs": [],
   "source": [
    "def arrayManipulation(n, queries):\n",
    "    array = [0] * n\n",
    "    \n",
    "    for query in queries:\n",
    "        for i in range(query[0]-1, query[1]):\n",
    "            array[i] += query[2]\n",
    "        print (array)\n",
    "    \n",
    "    return max(array)"
   ]
  }
 ],
 "metadata": {
  "kernelspec": {
   "display_name": "Python 3",
   "language": "python",
   "name": "python3"
  },
  "language_info": {
   "codemirror_mode": {
    "name": "ipython",
    "version": 3
   },
   "file_extension": ".py",
   "mimetype": "text/x-python",
   "name": "python",
   "nbconvert_exporter": "python",
   "pygments_lexer": "ipython3",
   "version": "3.7.2"
  }
 },
 "nbformat": 4,
 "nbformat_minor": 2
}
