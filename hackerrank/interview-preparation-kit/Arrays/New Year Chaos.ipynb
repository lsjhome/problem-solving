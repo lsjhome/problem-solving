{
 "cells": [
  {
   "cell_type": "code",
   "execution_count": 121,
   "metadata": {},
   "outputs": [],
   "source": [
    "#!/bin/python3\n",
    "# https://www.hackerrank.com/challenges/new-year-chaos\n",
    "import math\n",
    "import os\n",
    "import random\n",
    "import re\n",
    "import sys\n",
    "\n",
    "# Complete the minimumBribes function below.\n",
    "def minimumBribes(q):\n",
    "    swaps = 0\n",
    "    swapped = False\n",
    "    \n",
    "    for (i, v) in enumerate(q):\n",
    "        # not poqqible to bribe more than 2 people\n",
    "        if v - 1- i >2:\n",
    "            print (\"Too chaotic\")\n",
    "            return\n",
    "    \n",
    "    # Bubble qort\n",
    "    # for each i loop, the largeqt number goeq to the end\n",
    "    for i in range(len(q)-1):\n",
    "        for j in range(len(q)-1-i):\n",
    "            if q[j] > q[j+1]:\n",
    "                q[j+1], q[j] = q[j], q[j+1]\n",
    "                swaps+=1\n",
    "                swapped = True\n",
    "        if swapped:\n",
    "            swapped = False\n",
    "        else:\n",
    "            break\n",
    "    print (swaps)\n",
    "\n",
    "if __name__ == '__main__':\n",
    "    t = int(input())\n",
    "\n",
    "    for t_itr in range(t):\n",
    "        n = int(input())\n",
    "\n",
    "        q = list(map(int, input().rstrip().split()))\n",
    "\n",
    "        minimumBribes(q)\n"
   ]
  }
 ],
 "metadata": {
  "kernelspec": {
   "display_name": "Python 3",
   "language": "python",
   "name": "python3"
  },
  "language_info": {
   "codemirror_mode": {
    "name": "ipython",
    "version": 3
   },
   "file_extension": ".py",
   "mimetype": "text/x-python",
   "name": "python",
   "nbconvert_exporter": "python",
   "pygments_lexer": "ipython3",
   "version": "3.7.2"
  }
 },
 "nbformat": 4,
 "nbformat_minor": 2
}
