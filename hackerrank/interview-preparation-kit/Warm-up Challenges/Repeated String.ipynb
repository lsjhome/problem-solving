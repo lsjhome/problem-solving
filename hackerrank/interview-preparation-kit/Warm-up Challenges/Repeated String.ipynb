{
 "cells": [
  {
   "cell_type": "code",
   "execution_count": null,
   "metadata": {},
   "outputs": [],
   "source": [
    "#!/bin/python3\n",
    "#https://www.hackerrank.com/challenges/repeated-string/\n",
    "import math\n",
    "import os\n",
    "import random\n",
    "import re\n",
    "import sys\n",
    "from collections import Counter\n",
    "\n",
    "# Complete the repeatedString function below.\n",
    "def repeatedString(s, n):\n",
    "    quo = n // len(s)\n",
    "    mod = n % len(s)\n",
    "    n_a_1 = Counter(s)['a']\n",
    "    n_a_2 = Counter(s[:mod])['a']\n",
    "    ans = n_a_1 * quo + n_a_2\n",
    "    return ans\n",
    "\n",
    "if __name__ == '__main__':\n",
    "    fptr = open(os.environ['OUTPUT_PATH'], 'w')\n",
    "\n",
    "    s = input()\n",
    "\n",
    "    n = int(input())\n",
    "\n",
    "    result = repeatedString(s, n)\n",
    "\n",
    "    fptr.write(str(result) + '\\n')\n",
    "\n",
    "    fptr.close()\n"
   ]
  }
 ],
 "metadata": {
  "kernelspec": {
   "display_name": "Python 3",
   "language": "python",
   "name": "python3"
  },
  "language_info": {
   "codemirror_mode": {
    "name": "ipython",
    "version": 3
   },
   "file_extension": ".py",
   "mimetype": "text/x-python",
   "name": "python",
   "nbconvert_exporter": "python",
   "pygments_lexer": "ipython3",
   "version": "3.7.2"
  }
 },
 "nbformat": 4,
 "nbformat_minor": 2
}
