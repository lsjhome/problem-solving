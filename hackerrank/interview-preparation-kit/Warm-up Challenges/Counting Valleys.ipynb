{
 "cells": [
  {
   "cell_type": "code",
   "execution_count": null,
   "metadata": {},
   "outputs": [],
   "source": [
    "#!/bin/python3\n",
    "# https://www.hackerrank.com/challenges/counting-valleys/\n",
    "import math\n",
    "import os\n",
    "import random\n",
    "import re\n",
    "import sys\n",
    "from collections import Counter\n",
    "\n",
    "# Complete the countingValleys function below.\n",
    "# two pointer technique\n",
    "def countingValleys(n, s):\n",
    "    steps = [0]\n",
    "    cnt = 0\n",
    "    for c in s:\n",
    "\n",
    "        if c == 'U':\n",
    "            cur_level = steps[-1]+1\n",
    "            if cur_level == 0 and steps[-1] <0:\n",
    "                cnt += 1\n",
    "        else:\n",
    "            cur_level = steps[-1]-1\n",
    "\n",
    "        steps.append(cur_level)\n",
    "        \n",
    "    return cnt \n",
    "\n",
    "if __name__ == '__main__':\n",
    "    fptr = open(os.environ['OUTPUT_PATH'], 'w')\n",
    "\n",
    "    n = int(input())\n",
    "\n",
    "    s = input()\n",
    "\n",
    "    result = countingValleys(n, s)\n",
    "\n",
    "    fptr.write(str(result) + '\\n')\n",
    "\n",
    "    fptr.close()"
   ]
  }
 ],
 "metadata": {
  "kernelspec": {
   "display_name": "Python 3",
   "language": "python",
   "name": "python3"
  },
  "language_info": {
   "codemirror_mode": {
    "name": "ipython",
    "version": 3
   },
   "file_extension": ".py",
   "mimetype": "text/x-python",
   "name": "python",
   "nbconvert_exporter": "python",
   "pygments_lexer": "ipython3",
   "version": "3.7.2"
  }
 },
 "nbformat": 4,
 "nbformat_minor": 2
}
