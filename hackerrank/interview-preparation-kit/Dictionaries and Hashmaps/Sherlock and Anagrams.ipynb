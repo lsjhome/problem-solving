{
 "cells": [
  {
   "cell_type": "code",
   "execution_count": null,
   "metadata": {},
   "outputs": [],
   "source": [
    "#!/bin/python3\n",
    "#https://www.hackerrank.com/challenges/sherlock-and-anagrams\n",
    "import math\n",
    "import os\n",
    "import random\n",
    "import re\n",
    "import sys\n",
    "import string\n",
    "\n",
    "# Complete the sherlockAndAnagrams function below.\n",
    "def sherlockAndAnagrams(s):\n",
    "\n",
    "    substrings = {}\n",
    "    alphabet = string.ascii_lowercase\n",
    "    \n",
    "    for start in range(len(s)):\n",
    "        for finish in range(start, len(s)):\n",
    "        \n",
    "            # init\n",
    "            substring = [0 for _ in alphabet]\n",
    "            for letter in s[start:finish+1]:\n",
    "                substring[ord(letter) - ord(alphabet[0])] += 1\n",
    "\n",
    "            # tuple is hashable. dict and list aren't\n",
    "            substring = tuple(substring)\n",
    "            substrings[substring] = substrings.get(substring, 0) + 1\n",
    "\n",
    "    res = 0        \n",
    "    for count in substrings.values():\n",
    "        res += count * (count-1) // 2\n",
    "        \n",
    "    return res\n",
    "\n",
    "if __name__ == '__main__':\n",
    "\n",
    "    fptr = open(os.environ['OUTPUT_PATH'], 'w')\n",
    "\n",
    "    q = int(input())\n",
    "\n",
    "    for q_itr in range(q):\n",
    "        s = input()\n",
    "\n",
    "        result = sherlockAndAnagrams(s)\n",
    "\n",
    "        fptr.write(str(result) + '\\n')\n",
    "\n",
    "    fptr.close()"
   ]
  }
 ],
 "metadata": {
  "kernelspec": {
   "display_name": "Python 3",
   "language": "python",
   "name": "python3"
  },
  "language_info": {
   "codemirror_mode": {
    "name": "ipython",
    "version": 3
   },
   "file_extension": ".py",
   "mimetype": "text/x-python",
   "name": "python",
   "nbconvert_exporter": "python",
   "pygments_lexer": "ipython3",
   "version": "3.7.2"
  }
 },
 "nbformat": 4,
 "nbformat_minor": 2
}
