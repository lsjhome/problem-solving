{
 "cells": [
  {
   "cell_type": "code",
   "execution_count": null,
   "metadata": {},
   "outputs": [],
   "source": [
    "# timeout\n",
    "from itertools import combinations\n",
    "def countTriplets(arr, r):\n",
    "    tri_idx = combinations(range(n), 3)\n",
    "    count = 0\n",
    "    for tri in tri_idx:\n",
    "        if (arr[tri[1]] / arr[tri[0]] == r) and (arr[tri[2]] / arr[tri[1]] == r):\n",
    "            count += 1\n",
    "    return count    "
   ]
  },
  {
   "cell_type": "code",
   "execution_count": null,
   "metadata": {},
   "outputs": [],
   "source": [
    "#!/bin/python3\n",
    "#https://www.hackerrank.com/challenges/count-triplets-1/\n",
    "import math\n",
    "import os\n",
    "import random\n",
    "import re\n",
    "import sys\n",
    "from collections import Counter\n",
    "\n",
    "# Complete the countTriplets function below.\n",
    "def countTriplets(arr, r):\n",
    "    r2 = Counter()\n",
    "    r3 = Counter()\n",
    "    count = 0\n",
    "    \n",
    "    for v in arr:\n",
    "            \n",
    "        if v in r3:\n",
    "            count += r3[v]            \n",
    "\n",
    "        if v in r2:\n",
    "            r3[v*r] += r2[v]\n",
    "\n",
    "        r2[v*r] += 1        \n",
    "\n",
    "    return count\n",
    "\n",
    "if __name__ == '__main__':\n",
    "    fptr = open(os.environ['OUTPUT_PATH'], 'w')\n",
    "\n",
    "    nr = input().rstrip().split()\n",
    "\n",
    "    n = int(nr[0])\n",
    "\n",
    "    r = int(nr[1])\n",
    "\n",
    "    arr = list(map(int, input().rstrip().split()))\n",
    "\n",
    "    ans = countTriplets(arr, r)\n",
    "\n",
    "    fptr.write(str(ans) + '\\n')\n",
    "\n",
    "    fptr.close()\n"
   ]
  }
 ],
 "metadata": {
  "kernelspec": {
   "display_name": "Python 3",
   "language": "python",
   "name": "python3"
  },
  "language_info": {
   "codemirror_mode": {
    "name": "ipython",
    "version": 3
   },
   "file_extension": ".py",
   "mimetype": "text/x-python",
   "name": "python",
   "nbconvert_exporter": "python",
   "pygments_lexer": "ipython3",
   "version": "3.7.2"
  }
 },
 "nbformat": 4,
 "nbformat_minor": 2
}
