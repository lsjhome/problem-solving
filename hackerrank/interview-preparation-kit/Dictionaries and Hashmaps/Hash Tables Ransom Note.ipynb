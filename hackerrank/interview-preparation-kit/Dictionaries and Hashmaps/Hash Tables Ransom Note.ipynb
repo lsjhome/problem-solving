{
 "cells": [
  {
   "cell_type": "code",
   "execution_count": null,
   "metadata": {},
   "outputs": [],
   "source": [
    "#!/bin/python3\n",
    "# https://www.hackerrank.com/challenges/ctci-ransom-note\n",
    "import math\n",
    "import os\n",
    "import random\n",
    "import re\n",
    "import sys\n",
    "\n",
    "# Complete the checkMagazine function below.\n",
    "def checkMagazine(magazine, note):\n",
    "\n",
    "    magazine_dict = {}\n",
    "\n",
    "    for word in magazine:\n",
    "        if word in magazine_dict:\n",
    "            magazine_dict[word]+=1\n",
    "        else:\n",
    "            magazine_dict[word] = 1\n",
    "\n",
    "    note_dict = {}\n",
    "\n",
    "    for word in note:\n",
    "        if word in note_dict:\n",
    "            note_dict[word] += 1\n",
    "        else:\n",
    "            note_dict[word] = 1\n",
    "            \n",
    "    for word in note_dict:\n",
    "\n",
    "        if word in magazine_dict.keys():\n",
    "            if magazine_dict[word] < note_dict[word]:\n",
    "                print ('No')\n",
    "                return\n",
    "        else:\n",
    "            print ('No')\n",
    "            return\n",
    "\n",
    "    print ('Yes')\n",
    "    return    \n",
    "\n",
    "if __name__ == '__main__':\n",
    "    mn = input().split()\n",
    "\n",
    "    m = int(mn[0])\n",
    "\n",
    "    n = int(mn[1])\n",
    "\n",
    "    magazine = input().rstrip().split()\n",
    "\n",
    "    note = input().rstrip().split()\n",
    "\n",
    "    checkMagazine(magazine, note)\n"
   ]
  }
 ],
 "metadata": {
  "kernelspec": {
   "display_name": "Python 3",
   "language": "python",
   "name": "python3"
  },
  "language_info": {
   "codemirror_mode": {
    "name": "ipython",
    "version": 3
   },
   "file_extension": ".py",
   "mimetype": "text/x-python",
   "name": "python",
   "nbconvert_exporter": "python",
   "pygments_lexer": "ipython3",
   "version": "3.7.2"
  }
 },
 "nbformat": 4,
 "nbformat_minor": 2
}
